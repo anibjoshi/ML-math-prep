{
  "nbformat": 4,
  "nbformat_minor": 0,
  "metadata": {
    "colab": {
      "provenance": [],
      "authorship_tag": "ABX9TyPnGEyqrqOIZe1evIr0OmT/",
      "include_colab_link": true
    },
    "kernelspec": {
      "name": "python3",
      "display_name": "Python 3"
    },
    "language_info": {
      "name": "python"
    }
  },
  "cells": [
    {
      "cell_type": "markdown",
      "metadata": {
        "id": "view-in-github",
        "colab_type": "text"
      },
      "source": [
        "<a href=\"https://colab.research.google.com/github/anibjoshi/ML-math-prep/blob/main/MLM_Linear_Algebra_1.ipynb\" target=\"_parent\"><img src=\"https://colab.research.google.com/assets/colab-badge.svg\" alt=\"Open In Colab\"/></a>"
      ]
    },
    {
      "cell_type": "markdown",
      "source": [
        "Chapter 4 - Introduction to NumPy Arrays"
      ],
      "metadata": {
        "id": "xyw2Gz2NqRwa"
      }
    },
    {
      "cell_type": "code",
      "execution_count": null,
      "metadata": {
        "id": "Hw0l-JvXlCzA"
      },
      "outputs": [],
      "source": [
        "from numpy import array\n",
        "\n",
        "l = [1.0,2.0,3.0]\n",
        "a = array(l)\n",
        "\n",
        "print(a)\n",
        "print(a.shape)\n",
        "print(a.dtype)"
      ]
    },
    {
      "cell_type": "code",
      "source": [
        "from numpy import empty\n",
        "a = empty([3,3])\n",
        "print(a)"
      ],
      "metadata": {
        "id": "ndUyc3iimIX4"
      },
      "execution_count": null,
      "outputs": []
    },
    {
      "cell_type": "code",
      "source": [
        "from numpy import zeros\n",
        "a = zeros([3,5])\n",
        "print(a)"
      ],
      "metadata": {
        "id": "mumUz2Z6mcd7"
      },
      "execution_count": null,
      "outputs": []
    },
    {
      "cell_type": "code",
      "source": [
        "from numpy import ones\n",
        "a = ones([5])\n",
        "print(a)"
      ],
      "metadata": {
        "id": "TL7SXRxjmnCs"
      },
      "execution_count": null,
      "outputs": []
    },
    {
      "cell_type": "code",
      "source": [
        "from numpy import array\n",
        "from numpy import vstack\n",
        "\n",
        "a1 = array([1,2,3])\n",
        "print(a1)\n",
        "a2 = array([4,5,6])\n",
        "print(a2)\n",
        "\n",
        "a3 = vstack((a1,a2))\n",
        "print(a3)\n",
        "print(a3.shape)"
      ],
      "metadata": {
        "id": "uSisTJfYmsCO"
      },
      "execution_count": null,
      "outputs": []
    },
    {
      "cell_type": "code",
      "source": [
        "from numpy import array\n",
        "from numpy import hstack\n",
        "\n",
        "a1 = array([1,2,3])\n",
        "print(a1)\n",
        "a2 = array([4,5,6])\n",
        "print(a2)\n",
        "\n",
        "a3 = hstack((a1,a2))\n",
        "print(a3)\n",
        "print(a3.shape)"
      ],
      "metadata": {
        "id": "HE8fLIgfnGSZ"
      },
      "execution_count": null,
      "outputs": []
    },
    {
      "cell_type": "markdown",
      "source": [
        "Chapter 5 - Index, Slice and Reshape NumPy Arrays"
      ],
      "metadata": {
        "id": "zkIDJGbIqi3v"
      }
    },
    {
      "cell_type": "code",
      "source": [
        "# create one-dimensional array\n",
        "\n",
        "from numpy import array\n",
        "\n",
        "data = [11,22,33,44,55]\n",
        "data = array(data)\n",
        "\n",
        "print(data)\n",
        "print(type(data))"
      ],
      "metadata": {
        "id": "LcX0TZUwnSYb"
      },
      "execution_count": null,
      "outputs": []
    },
    {
      "cell_type": "code",
      "source": [
        "from numpy import array\n",
        "\n",
        "data = [[11,22], \n",
        "        [33,44],\n",
        "        [55,66]]\n",
        "\n",
        "data = array(data)\n",
        "print(data)\n",
        "print(type(data))"
      ],
      "metadata": {
        "id": "444T2pQdrg6i"
      },
      "execution_count": null,
      "outputs": []
    },
    {
      "cell_type": "code",
      "source": [
        "#index a one dimensional array\n",
        "from numpy import array\n",
        "\n",
        "data = array([11,22,33,44,55])\n",
        "print(data[0])\n",
        "print(data[4])\n",
        "\n",
        "print(data[-1])\n",
        "print(data[-5])"
      ],
      "metadata": {
        "id": "yUmM-iOTr1qy"
      },
      "execution_count": null,
      "outputs": []
    },
    {
      "cell_type": "code",
      "source": [
        "#index a two dimensional array\n",
        "\n",
        "from numpy import array\n",
        "\n",
        "data = [[11,22], \n",
        "        [33,44],\n",
        "        [55,66]]\n",
        "\n",
        "data = array(data)\n",
        "print(data[2,])"
      ],
      "metadata": {
        "id": "Cs4t2Kd_sEJT"
      },
      "execution_count": null,
      "outputs": []
    },
    {
      "cell_type": "code",
      "source": [
        "#slice a one dimesional array\n",
        "from numpy import array\n",
        "\n",
        "data = array([11,22,33,44,55])\n",
        "print(data[-4:])"
      ],
      "metadata": {
        "id": "SevD05-GsWFf"
      },
      "execution_count": null,
      "outputs": []
    },
    {
      "cell_type": "code",
      "source": [
        "#split input and output data\n",
        "\n",
        "from numpy import array\n",
        "data = array([[11,22,33],\n",
        "             [44,55,66],\n",
        "             [77,88,99]])\n",
        "\n",
        "X, y = data[:,:-1], data[:,-1]\n",
        "print(X)\n",
        "print(y)"
      ],
      "metadata": {
        "id": "uIGdyi3lstK5"
      },
      "execution_count": null,
      "outputs": []
    },
    {
      "cell_type": "code",
      "source": [
        "#split input and output data\n",
        "\n",
        "from numpy import array\n",
        "data = array([[11,22,33],\n",
        "             [44,55,66],\n",
        "             [77,88,99]])\n",
        "\n",
        "split = 2\n",
        "train, test = data[:split,:],data[split:,:]\n",
        "print(train)\n",
        "print(test)"
      ],
      "metadata": {
        "id": "SWOzp8xRtKXV"
      },
      "execution_count": null,
      "outputs": []
    },
    {
      "cell_type": "code",
      "source": [
        "#shape of one-dimensional array\n",
        "from numpy import array\n",
        "\n",
        "data = array([11,22,33,44,55])\n",
        "print(data.shape)"
      ],
      "metadata": {
        "id": "XQctgUCfuOu3"
      },
      "execution_count": null,
      "outputs": []
    },
    {
      "cell_type": "code",
      "source": [
        "from numpy import array\n",
        "\n",
        "data = [[11,22], \n",
        "        [33,44],\n",
        "        [55,66]]\n",
        "\n",
        "data = array(data)\n",
        "print('Rows: %d' % data.shape[0])\n",
        "print('Cols: %d' % data.shape[1])"
      ],
      "metadata": {
        "id": "AivnHTC_ubmq"
      },
      "execution_count": null,
      "outputs": []
    },
    {
      "cell_type": "code",
      "source": [
        "#reshape 1D array to 2D\n",
        "\n",
        "from numpy import array\n",
        "\n",
        "data = array([11,22,33,44,55])\n",
        "print(data.shape)\n",
        "\n",
        "data = data.reshape((data.shape[0],1))\n",
        "print(data)"
      ],
      "metadata": {
        "id": "GcYMTry9vBiN"
      },
      "execution_count": null,
      "outputs": []
    },
    {
      "cell_type": "code",
      "source": [
        "#reshape 2D array to 3D\n",
        "\n",
        "from numpy import array\n",
        "\n",
        "data = [[11,22], \n",
        "        [33,44],\n",
        "        [55,66]]\n",
        "\n",
        "data = array(data)\n",
        "print(data.shape)\n",
        "\n",
        "data = data.reshape((data.shape[0],data.shape[1],1))\n",
        "print(data)\n",
        "print(data.shape)"
      ],
      "metadata": {
        "id": "7T3rUL8dvbUr"
      },
      "execution_count": null,
      "outputs": []
    },
    {
      "cell_type": "markdown",
      "source": [
        "Chapter 6: NumPy Array Broadcasting"
      ],
      "metadata": {
        "id": "LqdS_SxUxSI7"
      }
    },
    {
      "cell_type": "code",
      "source": [
        "#Arrays with different sizes cannot be used in arithmetic. A way to overcome this is to duplicate the smaller array so that it has the dimensionality and size of the larger array. This is called array broadcasting\n",
        "\n",
        "a = [1,2,3]\n",
        "b = [1,2,3]\n",
        "\n",
        "c = a + b\n",
        "c =[1+1,2+2,3+3]\n",
        "print(c)"
      ],
      "metadata": {
        "id": "_7kh-yQZxXUQ"
      },
      "execution_count": null,
      "outputs": []
    },
    {
      "cell_type": "code",
      "source": [
        "# scalar and one dimensional array\n",
        "\n",
        "from numpy import array\n",
        "a = array([1,2,3])\n",
        "print(a)\n",
        "b = 2\n",
        "print(b)\n",
        "c = a + b\n",
        "print(c)"
      ],
      "metadata": {
        "id": "d5mvhSDXxocE"
      },
      "execution_count": null,
      "outputs": []
    },
    {
      "cell_type": "code",
      "source": [
        "#broadcast scalar to a two dimensional array\n",
        "\n",
        "A = array([\n",
        "    [1,2,3],\n",
        "    [1,2,3]])\n",
        "print(A)\n",
        "b = 2\n",
        "print(b)\n",
        "\n",
        "C = A + b\n",
        "print(C)"
      ],
      "metadata": {
        "id": "eG7Ax9G4ys-R"
      },
      "execution_count": null,
      "outputs": []
    },
    {
      "cell_type": "code",
      "source": [
        "A = array([\n",
        "    [1,2,3],\n",
        "    [1,2,3]])\n",
        "b = array([[1,5,3],[2,4,6]])\n",
        "C = A + b\n",
        "print(C)"
      ],
      "metadata": {
        "id": "cLwsVCyy19Iy"
      },
      "execution_count": null,
      "outputs": []
    },
    {
      "cell_type": "markdown",
      "source": [
        "Chapter 7: Set Axis for Rows and Columns"
      ],
      "metadata": {
        "id": "ayOOv6ot6AzP"
      }
    },
    {
      "cell_type": "code",
      "source": [
        "#enumerate columns in numpy array\n",
        "\n",
        "from numpy import asarray\n",
        "#define data as a list\n",
        "data = [[1,2,3],[4,5,6]]\n",
        "#convert to a numpy array\n",
        "data = asarray(data)\n",
        "for col in range(data.shape[1]):\n",
        "  print(data[:,col])"
      ],
      "metadata": {
        "id": "udnLFSLJ6Jlp"
      },
      "execution_count": null,
      "outputs": []
    },
    {
      "cell_type": "code",
      "source": [
        "#axis = None: Apply operation to the entire array\n",
        "#axis = 0: Apply operation column-wise, across all rows for each column\n",
        "#axis = 1: Apply operation row-wise, across all columns for each row\n",
        "\n",
        "from numpy import asarray\n",
        "data = [[1,2,3],[4,5,6]]\n",
        "data = asarray(data)\n",
        "result = data.sum(axis = None)\n",
        "print(result)"
      ],
      "metadata": {
        "id": "1ydd4x656inW"
      },
      "execution_count": null,
      "outputs": []
    },
    {
      "cell_type": "code",
      "source": [
        "from numpy import asarray\n",
        "data = [[1,2,3],[4,5,6]]\n",
        "data = asarray(data)\n",
        "result = data.sum(axis = 0)\n",
        "print(result)"
      ],
      "metadata": {
        "id": "jWff9OmP77cZ"
      },
      "execution_count": null,
      "outputs": []
    },
    {
      "cell_type": "code",
      "source": [
        "from numpy import asarray\n",
        "data = [[1,2,3],[4,5,6]]\n",
        "data = asarray(data)\n",
        "result = data.sum(axis = 1)\n",
        "print(result)"
      ],
      "metadata": {
        "id": "grIXdUk-8GYs"
      },
      "execution_count": null,
      "outputs": []
    },
    {
      "cell_type": "markdown",
      "source": [
        "Chapter 8: Vectors and Vector Arithmetic"
      ],
      "metadata": {
        "id": "YCXV0kdd8QFv"
      }
    },
    {
      "cell_type": "code",
      "source": [
        "#Vector is a tuple of one or more values."
      ],
      "metadata": {
        "id": "imCbvNsy8Umq"
      },
      "execution_count": 82,
      "outputs": []
    },
    {
      "cell_type": "code",
      "source": [
        "#create a vector\n",
        "\n",
        "from numpy import array\n",
        "\n",
        "v = array([1,2,3])\n",
        "print(v)"
      ],
      "metadata": {
        "colab": {
          "base_uri": "https://localhost:8080/"
        },
        "id": "nkQmIyfg9rJq",
        "outputId": "0521576e-afeb-44ad-d718-fbf0676e6144"
      },
      "execution_count": 84,
      "outputs": [
        {
          "output_type": "stream",
          "name": "stdout",
          "text": [
            "[1 2 3]\n"
          ]
        }
      ]
    },
    {
      "cell_type": "code",
      "source": [
        "#vector addition\n",
        "a = array([1,2,3])\n",
        "b = array([1,2,3])\n",
        "\n",
        "c = a + b\n",
        "print(c)"
      ],
      "metadata": {
        "colab": {
          "base_uri": "https://localhost:8080/"
        },
        "id": "yk9f_G-u9tXJ",
        "outputId": "132410de-543c-45cf-a53e-51e415255bc5"
      },
      "execution_count": 85,
      "outputs": [
        {
          "output_type": "stream",
          "name": "stdout",
          "text": [
            "[2 4 6]\n"
          ]
        }
      ]
    },
    {
      "cell_type": "code",
      "source": [
        "#vector subtraction\n",
        "a = array([1,2,3])\n",
        "b = array([0.5,1.5,2.5])\n",
        "\n",
        "c = a - b\n",
        "print(c)"
      ],
      "metadata": {
        "colab": {
          "base_uri": "https://localhost:8080/"
        },
        "id": "2DVIWMOD99PJ",
        "outputId": "205a5c2b-1de1-459e-e360-ccdc1da91daa"
      },
      "execution_count": 87,
      "outputs": [
        {
          "output_type": "stream",
          "name": "stdout",
          "text": [
            "[0.5 0.5 0.5]\n"
          ]
        }
      ]
    },
    {
      "cell_type": "code",
      "source": [
        "#vector multiplication\n",
        "a = array([1,2,3])\n",
        "b = array([1,2,3])\n",
        "\n",
        "c = a * b\n",
        "print(c)"
      ],
      "metadata": {
        "colab": {
          "base_uri": "https://localhost:8080/"
        },
        "id": "98dR4wTY-R6M",
        "outputId": "4620866c-bc19-44fc-be82-cc80272cb75f"
      },
      "execution_count": 88,
      "outputs": [
        {
          "output_type": "stream",
          "name": "stdout",
          "text": [
            "[1 4 9]\n"
          ]
        }
      ]
    },
    {
      "cell_type": "code",
      "source": [
        "#vector division\n",
        "a = array([1,2,3])\n",
        "b = array([1,2,3])\n",
        "\n",
        "c = a / b\n",
        "print(c)"
      ],
      "metadata": {
        "colab": {
          "base_uri": "https://localhost:8080/"
        },
        "id": "XgBLScLU-ZDt",
        "outputId": "e0fb79e2-8712-456e-ab4a-f61806cbf510"
      },
      "execution_count": 89,
      "outputs": [
        {
          "output_type": "stream",
          "name": "stdout",
          "text": [
            "[1. 1. 1.]\n"
          ]
        }
      ]
    },
    {
      "cell_type": "code",
      "source": [
        "#vector multiplication\n",
        "a = array([1,2,3])\n",
        "b = array([1,2,3])\n",
        "\n",
        "c = a.dot(b)\n",
        "d = a @ b\n",
        "print(c)\n",
        "print(d)"
      ],
      "metadata": {
        "colab": {
          "base_uri": "https://localhost:8080/"
        },
        "id": "0Q8SzIZ7Ep8j",
        "outputId": "12364cd5-4016-428e-88ad-cbd8802cbf5c"
      },
      "execution_count": 90,
      "outputs": [
        {
          "output_type": "stream",
          "name": "stdout",
          "text": [
            "14\n",
            "14\n"
          ]
        }
      ]
    },
    {
      "cell_type": "code",
      "source": [
        "#vector scalar multiplication\n",
        "a = array([1,2,3])\n",
        "b = 2\n",
        "\n",
        "c = a * b\n",
        "print(c)"
      ],
      "metadata": {
        "colab": {
          "base_uri": "https://localhost:8080/"
        },
        "id": "DsOdKJCEE1SQ",
        "outputId": "9ead35b4-3e41-447f-a642-ff963b935de4"
      },
      "execution_count": 91,
      "outputs": [
        {
          "output_type": "stream",
          "name": "stdout",
          "text": [
            "[2 4 6]\n"
          ]
        }
      ]
    },
    {
      "cell_type": "code",
      "source": [],
      "metadata": {
        "id": "bg9dMUW3E9Ll"
      },
      "execution_count": null,
      "outputs": []
    }
  ]
}